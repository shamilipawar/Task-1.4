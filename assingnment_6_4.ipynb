{
  "nbformat": 4,
  "nbformat_minor": 0,
  "metadata": {
    "colab": {
      "provenance": [],
      "authorship_tag": "ABX9TyP0sJ37IFBQQgH025BM6LN2",
      "include_colab_link": true
    },
    "kernelspec": {
      "name": "python3",
      "display_name": "Python 3"
    },
    "language_info": {
      "name": "python"
    }
  },
  "cells": [
    {
      "cell_type": "markdown",
      "metadata": {
        "id": "view-in-github",
        "colab_type": "text"
      },
      "source": [
        "<a href=\"https://colab.research.google.com/github/shamilipawar/Task-1.4/blob/main/assingnment_6_4.ipynb\" target=\"_parent\"><img src=\"https://colab.research.google.com/assets/colab-badge.svg\" alt=\"Open In Colab\"/></a>"
      ]
    },
    {
      "cell_type": "code",
      "source": [
        "Task 1:\n",
        "#write a python code of class skeleton\n",
        "class skeleton:\n",
        "    def __init__(self,name,roll_no,marks):\n",
        "        self.name=name\n",
        "        self.roll_no=roll_no\n",
        "        self.marks=marks\n",
        "    def display(self):\n",
        "        print(self.name)\n",
        "        print(self.roll_no)\n",
        "        print(self.marks)\n",
        "    def is_pass(self):\n",
        "        if self.marks>=40:\n",
        "            return True\n",
        "        else:\n",
        "            return False\n",
        "\n",
        "s1=skeleton(\"ram\",1,30)\n",
        "s2=skeleton(\"shyam\",2,39)\n",
        "s1.display()\n",
        "print(s1.is_pass())\n",
        "print(s2.is_pass())"
      ],
      "metadata": {
        "colab": {
          "base_uri": "https://localhost:8080/"
        },
        "id": "87Bwt9gDYVe3",
        "outputId": "d9a62907-96a7-4c67-d24b-1035ef7c68be"
      },
      "execution_count": 20,
      "outputs": [
        {
          "output_type": "stream",
          "name": "stdout",
          "text": [
            "ram\n",
            "1\n",
            "30\n",
            "False\n",
            "False\n"
          ]
        }
      ]
    },
    {
      "cell_type": "code",
      "source": [
        "Task 2:\n",
        "#write the for loop  first two lines and iterate through a list of numbers and calculate and print the square of even numbers.\n",
        "numbers =[1,2,3,4,5]\n",
        "\n",
        "for number in numbers:\n",
        "    if number % 2 == 0:\n",
        "        square = number ** 2\n",
        "        print(f\"The square of {number} is {square}\")"
      ],
      "metadata": {
        "colab": {
          "base_uri": "https://localhost:8080/"
        },
        "id": "MeWRbGhia64n",
        "outputId": "d75f3d40-8745-470b-9568-e4b0a0c676f2"
      },
      "execution_count": 21,
      "outputs": [
        {
          "output_type": "stream",
          "name": "stdout",
          "text": [
            "The square of 2 is 4\n",
            "The square of 4 is 16\n"
          ]
        }
      ]
    },
    {
      "cell_type": "code",
      "source": [
        "Task 3:\n",
        "#write Create a class called BankAccount with attributes account_holder and balance and complete methods for deposit(), withdraw(), and check for insufficient balance\n",
        "class BankAccount:\n",
        "    def __init__(self, account_holder, initial_balance=0):\n",
        "        self.account_holder = account_holder\n",
        "        self.balance = initial_balance\n",
        "\n",
        "    def deposit(self, amount):\n",
        "        if amount > 0:\n",
        "            self.balance += amount\n",
        "            print(f\"Deposit of {amount} successful. New balance: {self.balance}\")\n",
        "        else:\n",
        "            print(\"Invalid deposit amount. Amount must be positive.\")\n",
        "\n",
        "    def withdraw(self, amount):\n",
        "        if amount > 0:\n",
        "            if self.balance >= amount:\n",
        "                self.balance -= amount\n",
        "                print(f\"Withdrawal of {amount} successful. New balance: {self.balance}\")\n",
        "            else:\n",
        "                print(\"Insufficient balance.\")\n",
        "        else:\n",
        "            print(\"Invalid withdrawal amount. Amount must be positive.\")\n",
        "\n",
        "    def check_balance(self):\n",
        "        print(f\"Account balance for {self.account_holder}: {self.balance}\")\n",
        "\n",
        "# Example usage:\n",
        "account1 = BankAccount(\"Alice\", 1000)\n",
        "account1.check_balance()\n",
        "account1.deposit(500)\n",
        "account1.withdraw(200)\n",
        "account1.check_balance()\n",
        "account1.withdraw(2000)"
      ],
      "metadata": {
        "colab": {
          "base_uri": "https://localhost:8080/"
        },
        "id": "Tpx6FphzcTr3",
        "outputId": "a368c53d-1e41-4d71-af74-1e1304971457"
      },
      "execution_count": 23,
      "outputs": [
        {
          "output_type": "stream",
          "name": "stdout",
          "text": [
            "Account balance for Alice: 1000\n",
            "Deposit of 500 successful. New balance: 1500\n",
            "Withdrawal of 200 successful. New balance: 1300\n",
            "Account balance for Alice: 1300\n",
            "Insufficient balance.\n"
          ]
        }
      ]
    },
    {
      "cell_type": "code",
      "source": [
        "Task 4:\n",
        "#write a list of student dictionaries with keys name and score and  write a while loop to print the names of students who scored more than 75\n",
        "\n",
        "students = [\n",
        "    {\"name\": \"Alice\", \"score\": 85},\n",
        "    {\"name\": \"Bob\", \"score\": 70},\n",
        "    {\"name\": \"Charlie\", \"score\": 92},\n",
        "    {\"name\": \"David\", \"score\": 78},\n",
        "    {\"name\": \"Eve\", \"score\": 65},\n",
        "]\n",
        "\n",
        "i = 0\n",
        "while i < len(students):\n",
        "    if students[i][\"score\"] > 75:\n",
        "        print(students[i][\"name\"])\n",
        "    i += 1"
      ],
      "metadata": {
        "colab": {
          "base_uri": "https://localhost:8080/"
        },
        "id": "c70CuoK-dQlY",
        "outputId": "aaa95ad0-6580-4583-fece-7ace02d86442"
      },
      "execution_count": 24,
      "outputs": [
        {
          "output_type": "stream",
          "name": "stdout",
          "text": [
            "Alice\n",
            "Charlie\n",
            "David\n"
          ]
        }
      ]
    },
    {
      "cell_type": "code",
      "source": [
        "Task 5:\n",
        "#write a class ShoppingCart with an empty items list and  add_item, remove_item, and use a loop to calculate the total bill using conditional discounts\n",
        "class ShoppingCart:\n",
        "    def __init__(self):\n",
        "        self.items = []\n",
        "\n",
        "    def add_item(self, item, price, quantity=1):\n",
        "        self.items.append({\"item\": item, \"price\": price, \"quantity\": quantity})\n",
        "        print(f\"Added {quantity} of {item} to the cart.\")\n",
        "\n",
        "    def remove_item(self, item):\n",
        "        for i, cart_item in enumerate(self.items):\n",
        "            if cart_item[\"item\"] == item:\n",
        "                del self.items[i]\n",
        "                print(f\"Removed {item} from the cart.\")\n",
        "                return\n",
        "        print(f\"{item} not found in the cart.\")\n",
        "\n",
        "    def calculate_total(self):\n",
        "        total_bill = 0\n",
        "        for item in self.items:\n",
        "            item_total = item[\"price\"] * item[\"quantity\"]\n",
        "            # Apply conditional discounts (example: 10% discount for items over $50)\n",
        "            if item_total > 50:\n",
        "                item_total *= 0.9  # 10% discount\n",
        "                print(f\"Applied 10% discount to {item['item']}.\")\n",
        "            total_bill += item_total\n",
        "        return total_bill\n",
        "\n",
        "# Example usage:\n",
        "cart = ShoppingCart()\n",
        "cart.add_item(\"Laptop\", 1000, 1)\n",
        "cart.add_item(\"Mouse\", 25, 2)\n",
        "cart.add_item(\"Keyboard\", 75, 1)\n",
        "\n",
        "print(\"\\nItems in cart:\")\n",
        "for item in cart.items:\n",
        "    print(f\"- {item['item']}: ${item['price']} x {item['quantity']}\")\n",
        "\n",
        "total = cart.calculate_total()\n",
        "print(f\"\\nTotal bill: ${total:.2f}\")\n",
        "\n",
        "cart.remove_item(\"Mouse\")\n",
        "\n",
        "total = cart.calculate_total()\n",
        "print(f\"\\nTotal bill after removing Mouse: ${total:.2f}\")"
      ],
      "metadata": {
        "colab": {
          "base_uri": "https://localhost:8080/"
        },
        "id": "Sr4rw8Wcdv_w",
        "outputId": "d43cf4eb-0564-4ee8-aef9-0433ca289a56"
      },
      "execution_count": 28,
      "outputs": [
        {
          "output_type": "stream",
          "name": "stdout",
          "text": [
            "Added 1 of Laptop to the cart.\n",
            "Added 2 of Mouse to the cart.\n",
            "Added 1 of Keyboard to the cart.\n",
            "\n",
            "Items in cart:\n",
            "- Laptop: $1000 x 1\n",
            "- Mouse: $25 x 2\n",
            "- Keyboard: $75 x 1\n",
            "Applied 10% discount to Laptop.\n",
            "Applied 10% discount to Keyboard.\n",
            "\n",
            "Total bill: $1017.50\n",
            "Removed Mouse from the cart.\n",
            "Applied 10% discount to Laptop.\n",
            "Applied 10% discount to Keyboard.\n",
            "\n",
            "Total bill after removing Mouse: $967.50\n"
          ]
        }
      ]
    },
    {
      "cell_type": "code",
      "source": [],
      "metadata": {
        "id": "Q0BBcEI5eUjH"
      },
      "execution_count": null,
      "outputs": []
    }
  ]
}