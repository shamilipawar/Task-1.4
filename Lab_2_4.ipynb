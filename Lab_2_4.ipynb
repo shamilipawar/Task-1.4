{
  "nbformat": 4,
  "nbformat_minor": 0,
  "metadata": {
    "colab": {
      "provenance": [],
      "authorship_tag": "ABX9TyMVsktj1CC4qZpqWAicbxNv",
      "include_colab_link": true
    },
    "kernelspec": {
      "name": "python3",
      "display_name": "Python 3"
    },
    "language_info": {
      "name": "python"
    }
  },
  "cells": [
    {
      "cell_type": "markdown",
      "metadata": {
        "id": "view-in-github",
        "colab_type": "text"
      },
      "source": [
        "<a href=\"https://colab.research.google.com/github/shamilipawar/Task-1.4/blob/main/Lab_2_4.ipynb\" target=\"_parent\"><img src=\"https://colab.research.google.com/assets/colab-badge.svg\" alt=\"Open In Colab\"/></a>"
      ]
    },
    {
      "cell_type": "code",
      "source": [],
      "metadata": {
        "id": "B0Hs2QveP3HL"
      },
      "execution_count": null,
      "outputs": []
    },
    {
      "cell_type": "code",
      "source": [
        "def odd_even(number):\n",
        "  \"\"\"\n",
        "  This function checks if a given number is odd or even.\n",
        "\n",
        "  Args:\n",
        "    number: The number to check.\n",
        "\n",
        "  Returns:\n",
        "    \"Even\" if the number is even, \"Odd\" if the number is odd.\n",
        "  \"\"\"\n",
        "  if number % 2 == 0:\n",
        "    return \"Even\"\n",
        "  else:\n",
        "    return \"Odd\"\n",
        "#Example usage:\n",
        "print(odd_even(4))\n",
        "print(odd_even(7))"
      ],
      "metadata": {
        "colab": {
          "base_uri": "https://localhost:8080/",
          "height": 0
        },
        "id": "UOQHEZ0yP-ms",
        "outputId": "a2e280d0-238b-4ac7-da79-9ba1753b8512"
      },
      "execution_count": 43,
      "outputs": [
        {
          "output_type": "stream",
          "name": "stdout",
          "text": [
            "Even\n",
            "Odd\n"
          ]
        }
      ]
    },
    {
      "cell_type": "code",
      "source": [
        "Task 1\n",
        "# Write Python code that sorts a list in two ways:\n",
        "# 1. Using bubble sort algorithm (manual implementation)\n",
        "# 2. Using Python's built-in sort() method\n",
        "# Print both sorted lists for comparison\n",
        "Prompt : # Write Python code that sorts a list in two ways:\n",
        "# 1. Using bubble sort algorithm (manual implementation)\n",
        "# 2. Using Python's built-in sort() method\n",
        "# Print both sorted lists for comparison\n"
      ],
      "metadata": {
        "id": "7TbIt21FThb9"
      },
      "execution_count": null,
      "outputs": []
    },
    {
      "cell_type": "markdown",
      "source": [
        "Task 2\n",
        "# Write a Python function that takes a string and returns:\n",
        "# - Number of vowels\n",
        "# - Number of consonants\n",
        "# - Number of digits\n",
        "# Test the function with an example string and print the results\n",
        "Prompt:\n",
        "# Write a Python function that takes a string and returns:\n",
        "# - Number of vowels\n",
        "# - Number of consonants\n",
        "# - Number of digits\n",
        "# Test the function with an example string and print the results\n"
      ],
      "metadata": {
        "id": "8qwiZehaUfWU"
      }
    },
    {
      "cell_type": "code",
      "metadata": {
        "colab": {
          "base_uri": "https://localhost:8080/"
        },
        "id": "2dd6957d",
        "outputId": "a1123826-51f5-4278-aa08-0f7d819b0f4a"
      },
      "source": [
        "def analyze_string(text):\n",
        "  \"\"\"\n",
        "  Analyzes a string and returns the counts of vowels, consonants, and digits.\n",
        "\n",
        "  Args:\n",
        "    text: The input string.\n",
        "\n",
        "  Returns:\n",
        "    A tuple containing the counts of vowels, consonants, and digits\n",
        "    (num_vowels, num_consonants, num_digits).\n",
        "  \"\"\"\n",
        "  vowels = \"aeiouAEIOU\"\n",
        "  consonants = \"bcdfghjklmnpqrstvwxyzBCDFGHJKLMNPQRSTVWXYZ\"\n",
        "  digits = \"0123456789\"\n",
        "\n",
        "  num_vowels = 0\n",
        "  num_consonants = 0\n",
        "  num_digits = 0\n",
        "\n",
        "  for char in text:\n",
        "    if char in vowels:\n",
        "      num_vowels += 1\n",
        "    elif char in consonants:\n",
        "      num_consonants += 1\n",
        "    elif char in digits:\n",
        "      num_digits += 1\n",
        "\n",
        "  return num_vowels, num_consonants, num_digits\n",
        "\n",
        "# Example usage:\n",
        "example_string = \"Hello World 123!\"\n",
        "vowel_count, consonant_count, digit_count = analyze_string(example_string)\n",
        "\n",
        "print(f\"Original string: {example_string}\")\n",
        "print(f\"Number of vowels: {vowel_count}\")\n",
        "print(f\"Number of consonants: {consonant_count}\")\n",
        "print(f\"Number of digits: {digit_count}\")"
      ],
      "execution_count": 45,
      "outputs": [
        {
          "output_type": "stream",
          "name": "stdout",
          "text": [
            "Original string: Hello World 123!\n",
            "Number of vowels: 3\n",
            "Number of consonants: 7\n",
            "Number of digits: 3\n"
          ]
        }
      ]
    },
    {
      "cell_type": "markdown",
      "source": [
        "Task 3:\n",
        " # Write Python code to:\n",
        "# 1. Create a text file\n",
        "# 2. Write some sample text into it\n",
        "# 3. Read the text from the file and display it\n",
        "Prompt:\n",
        "# Write Python code to:\n",
        "# 1. Create a text file\n",
        "# 2. Write some sample text into it\n",
        "# 3. Read the text from the file and display it\n"
      ],
      "metadata": {
        "id": "RGeiGNAeU3Jk"
      }
    },
    {
      "cell_type": "code",
      "metadata": {
        "colab": {
          "base_uri": "https://localhost:8080/"
        },
        "id": "dd94fc66",
        "outputId": "e1b59383-4481-4836-9743-368afe07b18b"
      },
      "source": [
        "# 4. Append more text to the file\n",
        "file_name = \"my_sample_file.txt\" # Using the same file name as before\n",
        "append_text = \"\\nThis is some additional text appended to the file.\"\n",
        "\n",
        "with open(file_name, \"a\") as file:\n",
        "  file.write(append_text)\n",
        "\n",
        "print(f\"Additional text appended to '{file_name}'.\")\n",
        "\n",
        "# Read the updated content from the file and display it\n",
        "with open(file_name, \"r\") as file:\n",
        "  updated_read_text = file.read()\n",
        "\n",
        "print(f\"\\nUpdated content of '{file_name}':\")\n",
        "print(updated_read_text)"
      ],
      "execution_count": 47,
      "outputs": [
        {
          "output_type": "stream",
          "name": "stdout",
          "text": [
            "Additional text appended to 'my_sample_file.txt'.\n",
            "\n",
            "Updated content of 'my_sample_file.txt':\n",
            "This is some sample text that will be written to the file.\n",
            "This is some additional text appended to the file.\n"
          ]
        }
      ]
    },
    {
      "cell_type": "markdown",
      "source": [
        "Task 4\n",
        "# Write a Python program for a simple calculator using functions:\n",
        "# - add, subtract, multiply, divide\n",
        "# Ask the user to select an operation and enter two numbers\n",
        "# Perform the calculation and print the result.\n",
        "Prompt:\n",
        "# Write a Python program for a simple calculator using functions:\n",
        "# - add, subtract, multiply, divide\n",
        "# Ask the user to select an operation and enter two numbers\n",
        "# Perform the calculation and print the result.\n"
      ],
      "metadata": {
        "id": "gTRBN0W3X0le"
      }
    },
    {
      "cell_type": "code",
      "metadata": {
        "colab": {
          "base_uri": "https://localhost:8080/"
        },
        "id": "dadbd06c",
        "outputId": "147bd934-eb04-40bb-f311-b0fe64680ce8"
      },
      "source": [
        "def add(x, y):\n",
        "  \"\"\"Adds two numbers.\"\"\"\n",
        "  return x + y\n",
        "\n",
        "def subtract(x, y):\n",
        "  \"\"\"Subtracts the second number from the first.\"\"\"\n",
        "  return x - y\n",
        "\n",
        "def multiply(x, y):\n",
        "  \"\"\"Multiplies two numbers.\"\"\"\n",
        "  return x * y\n",
        "\n",
        "def divide(x, y):\n",
        "  \"\"\"Divides the first number by the second.\"\"\"\n",
        "  if y == 0:\n",
        "    return \"Error! Division by zero.\"\n",
        "  else:\n",
        "    return x / y\n",
        "\n",
        "print(\"Select operation:\")\n",
        "print(\"1. Add\")\n",
        "print(\"2. Subtract\")\n",
        "print(\"3. Multiply\")\n",
        "print(\"4. Divide\")\n",
        "\n",
        "while True:\n",
        "  # Take input from the user\n",
        "  choice = input(\"Enter choice(1/2/3/4): \")\n",
        "\n",
        "  # Check if choice is one of the four options\n",
        "  if choice in ('1', '2', '3', '4'):\n",
        "    try:\n",
        "      num1 = float(input(\"Enter first number: \"))\n",
        "      num2 = float(input(\"Enter second number: \"))\n",
        "    except ValueError:\n",
        "      print(\"Invalid input. Please enter numbers.\")\n",
        "      continue\n",
        "\n",
        "    if choice == '1':\n",
        "      print(num1, \"+\", num2, \"=\", add(num1, num2))\n",
        "\n",
        "    elif choice == '2':\n",
        "      print(num1, \"-\", num2, \"=\", subtract(num1, num2))\n",
        "\n",
        "    elif choice == '3':\n",
        "      print(num1, \"*\", num2, \"=\", multiply(num1, num2))\n",
        "\n",
        "    elif choice == '4':\n",
        "      print(num1, \"/\", num2, \"=\", divide(num1, num2))\n",
        "    break\n",
        "  else:\n",
        "    print(\"Invalid Input\")"
      ],
      "execution_count": 48,
      "outputs": [
        {
          "output_type": "stream",
          "name": "stdout",
          "text": [
            "Select operation:\n",
            "1. Add\n",
            "2. Subtract\n",
            "3. Multiply\n",
            "4. Divide\n",
            "Enter choice(1/2/3/4): 1\n",
            "Enter first number: 16\n",
            "Enter second number: 23\n",
            "16.0 + 23.0 = 39.0\n"
          ]
        }
      ]
    },
    {
      "cell_type": "markdown",
      "source": [
        "Task 5\n",
        "# Write a Python program that checks if a given year is a leap year.\n",
        "Prompt:\n",
        "# Write a Python program that checks if a given year is a leap year."
      ],
      "metadata": {
        "id": "J7wxRiQNY0su"
      }
    },
    {
      "cell_type": "code",
      "metadata": {
        "colab": {
          "base_uri": "https://localhost:8080/"
        },
        "id": "11c9efba",
        "outputId": "bf540b37-0490-4dc4-a48a-4f9344d74a61"
      },
      "source": [
        "def is_leap_year(year):\n",
        "  \"\"\"\n",
        "  Checks if a given year is a leap year.\n",
        "\n",
        "  Args:\n",
        "    year: The year to check (integer).\n",
        "\n",
        "  Returns:\n",
        "    True if the year is a leap year, False otherwise.\n",
        "  \"\"\"\n",
        "  # Leap years are divisible by 4, except for years divisible by 100\n",
        "  # but not by 400.\n",
        "  return (year % 4 == 0 and year % 100 != 0) or (year % 400 == 0)\n",
        "\n",
        "# Get input from the user\n",
        "try:\n",
        "  year_to_check = int(input(\"Enter a year to check if it's a leap year: \"))\n",
        "  if is_leap_year(year_to_check):\n",
        "    print(f\"{year_to_check} is a leap year.\")\n",
        "  else:\n",
        "    print(f\"{year_to_check} is not a leap year.\")\n",
        "except ValueError:\n",
        "  print(\"Invalid input. Please enter a valid year (a whole number).\")"
      ],
      "execution_count": 49,
      "outputs": [
        {
          "output_type": "stream",
          "name": "stdout",
          "text": [
            "Enter a year to check if it's a leap year:  2024\n",
            "2024 is a leap year.\n"
          ]
        }
      ]
    }
  ]
}