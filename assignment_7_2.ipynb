{
  "nbformat": 4,
  "nbformat_minor": 0,
  "metadata": {
    "colab": {
      "provenance": [],
      "authorship_tag": "ABX9TyO+sIurbzZZPVk40g0i636o",
      "include_colab_link": true
    },
    "kernelspec": {
      "name": "python3",
      "display_name": "Python 3"
    },
    "language_info": {
      "name": "python"
    }
  },
  "cells": [
    {
      "cell_type": "markdown",
      "metadata": {
        "id": "view-in-github",
        "colab_type": "text"
      },
      "source": [
        "<a href=\"https://colab.research.google.com/github/shamilipawar/Task-1.4/blob/main/assignment_7_2.ipynb\" target=\"_parent\"><img src=\"https://colab.research.google.com/assets/colab-badge.svg\" alt=\"Open In Colab\"/></a>"
      ]
    },
    {
      "cell_type": "markdown",
      "source": [
        "Task 1:\n",
        "#Syntax Error in Conditionals"
      ],
      "metadata": {
        "id": "zXA-4ogoBCkx"
      }
    },
    {
      "cell_type": "code",
      "execution_count": 18,
      "metadata": {
        "colab": {
          "base_uri": "https://localhost:8080/"
        },
        "id": "gM8UO-oz4znR",
        "outputId": "4d340fb3-46e9-4d74-f194-7ea85d9899f5"
      },
      "outputs": [
        {
          "output_type": "stream",
          "name": "stdout",
          "text": [
            "Equal\n"
          ]
        }
      ],
      "source": [
        "a=10\n",
        "if a==10:\n",
        "  print(\"Equal\")"
      ]
    },
    {
      "cell_type": "markdown",
      "source": [
        "Task 2:\n",
        "Loop Off-By-One Error"
      ],
      "metadata": {
        "id": "ELYipiY8BNTL"
      }
    },
    {
      "cell_type": "code",
      "source": [
        "#Loop Off-By-One Error\n",
        "def sum_upto_n(n):\n",
        "    total = 0\n",
        "    for i in range(1,n + 1):\n",
        "        total += i\n",
        "    return total\n",
        "print(sum_upto_n(5))"
      ],
      "metadata": {
        "colab": {
          "base_uri": "https://localhost:8080/"
        },
        "id": "i_41DOjJ86Bt",
        "outputId": "7304dc31-7208-4831-f858-a34d3568e9a8"
      },
      "execution_count": 29,
      "outputs": [
        {
          "output_type": "stream",
          "name": "stdout",
          "text": [
            "15\n"
          ]
        }
      ]
    },
    {
      "cell_type": "markdown",
      "source": [
        "Task 3:\n",
        "AttributeError"
      ],
      "metadata": {
        "id": "8s0VDD-mBV87"
      }
    },
    {
      "cell_type": "code",
      "source": [
        "class User:\n",
        "    def __init__(self, name):\n",
        "        self.name = name\n",
        "u=User(\"Alice\")\n",
        "print(u.name)"
      ],
      "metadata": {
        "colab": {
          "base_uri": "https://localhost:8080/"
        },
        "id": "fGMpBS7IBeQE",
        "outputId": "3d93d264-c28c-4c25-adf3-163eb6f4aa3e"
      },
      "execution_count": 8,
      "outputs": [
        {
          "output_type": "stream",
          "name": "stdout",
          "text": [
            "Alice\n"
          ]
        }
      ]
    },
    {
      "cell_type": "markdown",
      "source": [
        "Task 4:\n",
        "incorrect Class Attribute Initialization\n"
      ],
      "metadata": {
        "id": "-QgoVSuYC7pP"
      }
    },
    {
      "cell_type": "code",
      "source": [
        "class Car:\n",
        "    def start(self):\n",
        "        print(\"Car started\")\n",
        "mycar=Car()\n",
        "mycar.start()"
      ],
      "metadata": {
        "colab": {
          "base_uri": "https://localhost:8080/"
        },
        "id": "DGuQW7HwDVUL",
        "outputId": "f9b587ff-ee95-4f6b-8669-d763ca7daa6f"
      },
      "execution_count": 10,
      "outputs": [
        {
          "output_type": "stream",
          "name": "stdout",
          "text": [
            "Car started\n"
          ]
        }
      ]
    },
    {
      "cell_type": "markdown",
      "source": [
        "Task 5:\n",
        "Conditional Logic Error in Grading System\n"
      ],
      "metadata": {
        "id": "p9NksGapDd1j"
      }
    },
    {
      "cell_type": "code",
      "source": [
        "def grade_student(score):\n",
        "    if score < 40:\n",
        "        return 'A'\n",
        "    elif score < 70:\n",
        "        return 'B'\n",
        "    else:\n",
        "        return 'C'\n",
        "print(grade_student(74))"
      ],
      "metadata": {
        "colab": {
          "base_uri": "https://localhost:8080/"
        },
        "id": "H_1Q2O2CDi24",
        "outputId": "cfed21aa-3498-49c4-ce77-e7a25e3cafc2"
      },
      "execution_count": 28,
      "outputs": [
        {
          "output_type": "stream",
          "name": "stdout",
          "text": [
            "C\n"
          ]
        }
      ]
    },
    {
      "cell_type": "markdown",
      "source": [],
      "metadata": {
        "id": "RqTH5yInEjz9"
      }
    }
  ]
}